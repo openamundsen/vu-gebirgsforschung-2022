{
 "cells": [
  {
   "cell_type": "markdown",
   "id": "d11b1149-56fc-497a-8b92-71510691083d",
   "metadata": {},
   "source": [
    "# Quick-Fix Download von großen Ergebnisordnern"
   ]
  },
  {
   "cell_type": "markdown",
   "id": "23e23bc3-4b9f-4903-9809-6f9914986e50",
   "metadata": {},
   "source": [
    "Beim Download von sehr großen Ergebnisordnern ist das Problem aufgetaucht, dass das Archiv nicht entpackbar ist (beobachtet mit Chrome auf MacOS). Hier ein schneller Workaround: folgender Befehl komprimiert alle Ordner im Projekt in ein zip-Archiv auf dem Server. Danach befindet sich das Archiv (hier `model_setup_results.zip`) im Verzeichnis auf dem Server, dieses File dann einfach per Rechtsklick downloaden. Ihr könnt auch im Befehl unten `*` durch `results` ersetzen, wenn Ihr nur die Ergebnisse herunterladen wollt."
   ]
  },
  {
   "cell_type": "code",
   "execution_count": null,
   "id": "47459a5b-a341-457d-add3-341c48db5d4e",
   "metadata": {},
   "outputs": [],
   "source": [
    "!tar chvfz model_setup_results.zip *"
   ]
  },
  {
   "cell_type": "code",
   "execution_count": null,
   "id": "53f94740-7114-4cbc-a021-8a7e31ba8dc1",
   "metadata": {},
   "outputs": [],
   "source": []
  }
 ],
 "metadata": {
  "kernelspec": {
   "display_name": "Python 3",
   "language": "python",
   "name": "python3"
  },
  "language_info": {
   "codemirror_mode": {
    "name": "ipython",
    "version": 3
   },
   "file_extension": ".py",
   "mimetype": "text/x-python",
   "name": "python",
   "nbconvert_exporter": "python",
   "pygments_lexer": "ipython3",
   "version": "3.9.2"
  }
 },
 "nbformat": 4,
 "nbformat_minor": 5
}
